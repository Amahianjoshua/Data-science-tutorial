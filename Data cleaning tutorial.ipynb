{
 "cells": [
  {
   "cell_type": "markdown",
   "id": "80e18012-6fe5-4158-a625-9095483ea815",
   "metadata": {},
   "source": [
    "# Data Cleaning \n",
    "## Automating Missing Values Handling with Python Functions\n",
    "\n",
    "Missing data is one of the most common issues in datasets, and it can wreak havoc if not handled properly. Depending on your dataset and problem, you might choose to drop rows with missing values, fill them with defualt values, or even use more advanced techniques like imputation"
   ]
  },
  {
   "cell_type": "code",
   "execution_count": 10,
   "id": "e41792cf-aefc-4047-8e2b-19473dd2b3f1",
   "metadata": {},
   "outputs": [
    {
     "name": "stdout",
     "output_type": "stream",
     "text": [
      "     Name    Age     Salary\n",
      "0  Joshua  25.00  500000.00\n",
      "1  Judith  25.67   60000.00\n",
      "2    None  30.00  336666.67\n",
      "3    Jude  22.00  450000.00\n"
     ]
    }
   ],
   "source": [
    "# Code example: Handling Missing Values\n",
    "\n",
    "import pandas as pd\n",
    "# Define a reusable function to handle missing values\n",
    "def handle_missing_values(df, method='mean', fill_value=None):\n",
    "    if method == 'drop':\n",
    "        return df.dropna()\n",
    "    elif method == 'fill':\n",
    "        return df.fillna(fill_value)\n",
    "    elif method == 'mean':\n",
    "        numeric_cols =df.select_dtypes(include=['number']).columns\n",
    "        df[numeric_cols]=df[numeric_cols].fillna(df[numeric_cols].mean().round(2))\n",
    "        return df\n",
    "    else:\n",
    "        raise ValueError(\"Invalid method provided\")\n",
    "\n",
    "# Example dataset\n",
    "data= {\"Name\": ['Joshua', 'Judith', None, 'Jude'],\n",
    "       \"Age\": [25, None, 30, 22], \n",
    "       \"Salary\":[500000, 60000, None, 450000]}\n",
    "df=pd.DataFrame(data)\n",
    "\n",
    "# use the function to handle missing values by filling with the mean\n",
    "cleaned_df=handle_missing_values(df, method= 'mean')\n",
    "print(cleaned_df)"
   ]
  },
  {
   "cell_type": "code",
   "execution_count": null,
   "id": "0dbaf690-a6ae-4be8-af93-af7373f4b529",
   "metadata": {},
   "outputs": [],
   "source": []
  }
 ],
 "metadata": {
  "kernelspec": {
   "display_name": "Python 3 (ipykernel)",
   "language": "python",
   "name": "python3"
  },
  "language_info": {
   "codemirror_mode": {
    "name": "ipython",
    "version": 3
   },
   "file_extension": ".py",
   "mimetype": "text/x-python",
   "name": "python",
   "nbconvert_exporter": "python",
   "pygments_lexer": "ipython3",
   "version": "3.12.7"
  }
 },
 "nbformat": 4,
 "nbformat_minor": 5
}
