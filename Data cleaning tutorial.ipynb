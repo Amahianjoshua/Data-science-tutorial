{
 "cells": [
  {
   "cell_type": "markdown",
   "id": "80e18012-6fe5-4158-a625-9095483ea815",
   "metadata": {},
   "source": [
    "# Data Cleaning \n",
    "## Automating Missing Values Handling with Python Functions\n",
    "\n",
    "Missing data is one of the most common issues in datasets, and it can wreak havoc if not handled properly. Depending on your dataset and problem, you might choose to drop rows with missing values, fill them with defualt values, or even use more advanced techniques like imputation"
   ]
  },
  {
   "cell_type": "code",
   "execution_count": 1,
   "id": "e41792cf-aefc-4047-8e2b-19473dd2b3f1",
   "metadata": {},
   "outputs": [
    {
     "name": "stdout",
     "output_type": "stream",
     "text": [
      "     Name    Age     Salary\n",
      "0  Joshua  25.00  500000.00\n",
      "1  Judith  25.67   60000.00\n",
      "2    None  30.00  336666.67\n",
      "3    Jude  22.00  450000.00\n"
     ]
    }
   ],
   "source": [
    "# Code example: Handling Missing Values\n",
    "\n",
    "import pandas as pd\n",
    "# Define a reusable function to handle missing values\n",
    "def handle_missing_values(df, method='mean', fill_value=None):\n",
    "    if method == 'drop':\n",
    "        return df.dropna()\n",
    "    elif method == 'fill':\n",
    "        return df.fillna(fill_value)\n",
    "    elif method == 'mean':\n",
    "        numeric_cols =df.select_dtypes(include=['number']).columns\n",
    "        df[numeric_cols]=df[numeric_cols].fillna(df[numeric_cols].mean().round(2))\n",
    "        return df\n",
    "    else:\n",
    "        raise ValueError(\"Invalid method provided\")\n",
    "\n",
    "# Example dataset\n",
    "data= {\"Name\": ['Joshua', 'Judith', None, 'Jude'],\n",
    "       \"Age\": [25, None, 30, 22], \n",
    "       \"Salary\":[500000, 60000, None, 450000]}\n",
    "df=pd.DataFrame(data)\n",
    "\n",
    "# use the function to handle missing values by filling with the mean\n",
    "cleaned_df=handle_missing_values(df, method= 'mean')\n",
    "print(cleaned_df)"
   ]
  },
  {
   "cell_type": "markdown",
   "id": "3c239f40-1b78-40f8-9a54-5c31d6f1b91f",
   "metadata": {},
   "source": [
    "## Removing Duplicates Efficiently\n",
    "\n",
    "Duplicate rows are another common issue in datassets. While removing them seems straightfoward, it can be tricky to ensure you're not accidentally deleting valuable data."
   ]
  },
  {
   "cell_type": "code",
   "execution_count": 2,
   "id": "c8ba294d-d7b6-4c36-97a2-7f27614596cb",
   "metadata": {},
   "outputs": [
    {
     "name": "stdout",
     "output_type": "stream",
     "text": [
      "    Name  Age  Salary\n",
      "0  Alice   25   50000\n",
      "1    Bob   30   60000\n",
      "3  David   22  450000\n"
     ]
    }
   ],
   "source": [
    "# Define a function to remove duplicates based on specific columns\n",
    "def remove_duplicates(df, subset=None):\n",
    "    return df.drop_duplicates(subset=subset)\n",
    "\n",
    "# Example dataset with duplicates\n",
    "data = {'Name': ['Alice', 'Bob', 'Alice', 'David'],\n",
    "        'Age': [25, 30, 25, 22],\n",
    "        'Salary': [50000, 60000, 50000, 450000]}\n",
    "\n",
    "df= pd.DataFrame(data)\n",
    "\n",
    "# Remove duplicates based on the 'Name' column\n",
    "cleaned_df= remove_duplicates(df, subset=['Name'])\n",
    "print(cleaned_df)"
   ]
  },
  {
   "cell_type": "markdown",
   "id": "28ecff9f-ef41-4c1a-938e-1bb4e7f9dc34",
   "metadata": {},
   "source": [
    "In this example, we used the subset parameter to specify which columns to check for duplicates. This prevents accidental removal of rows where only some columns might be repeated."
   ]
  },
  {
   "cell_type": "markdown",
   "id": "03c4480b-d209-42de-95b8-6dc1b71d07c1",
   "metadata": {},
   "source": [
    "### Transforming Data Types in a Pipeline\n",
    "\n",
    "When working with messy data, it's common to encounter incorrect data types, such as numerical values stored as strings. You can automate this transformation process and integrate it into a data pipeline"
   ]
  },
  {
   "cell_type": "code",
   "execution_count": 3,
   "id": "c1365263-ddae-427a-97e5-13c8d02e6b29",
   "metadata": {},
   "outputs": [
    {
     "name": "stdout",
     "output_type": "stream",
     "text": [
      "       Name  Age   Salary\n",
      "0    Victor   23  50000.0\n",
      "1      Josh   30  60000.0\n",
      "2  Jonathan   22  45000.0\n"
     ]
    }
   ],
   "source": [
    "# Define a function to transform data types\n",
    "\n",
    "def transform_data_types(df, col_types):\n",
    "    for col, dtype in col_types.items():\n",
    "        df[col] = df[col].astype(dtype)  # Transform each column to its specified type\n",
    "    return df\n",
    "\n",
    "# Example dataset with incorrect data types\n",
    "data = {\n",
    "    'Name': ['Victor', 'Josh', 'Jonathan'],\n",
    "    'Age': ['23', '30', '22'],  # All values are valid for integer conversion\n",
    "    'Salary': ['50000', '60000', '45000']  # All values are valid for float conversion\n",
    "}\n",
    "\n",
    "df = pd.DataFrame(data)\n",
    "\n",
    "# Specify the correct data types\n",
    "col_types = {'Age': 'int', 'Salary': 'float'}\n",
    "\n",
    "# Apply the transformation\n",
    "cleaned_df = transform_data_types(df, col_types)\n",
    "print(cleaned_df)\n"
   ]
  },
  {
   "cell_type": "markdown",
   "id": "1425a904-a86d-4df2-8a8c-6dc1c5c31b54",
   "metadata": {},
   "source": [
    "In this example, we create a reusable function to transform the data types of specific columns, ensuring that numeric data is treated correctly for further analysis"
   ]
  },
  {
   "cell_type": "code",
   "execution_count": null,
   "id": "d96b63d0-8d25-41f0-a142-378e05609cfb",
   "metadata": {},
   "outputs": [],
   "source": []
  }
 ],
 "metadata": {
  "kernelspec": {
   "display_name": "Python 3 (ipykernel)",
   "language": "python",
   "name": "python3"
  },
  "language_info": {
   "codemirror_mode": {
    "name": "ipython",
    "version": 3
   },
   "file_extension": ".py",
   "mimetype": "text/x-python",
   "name": "python",
   "nbconvert_exporter": "python",
   "pygments_lexer": "ipython3",
   "version": "3.12.7"
  }
 },
 "nbformat": 4,
 "nbformat_minor": 5
}
